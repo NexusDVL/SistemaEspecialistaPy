{
  "nbformat": 4,
  "nbformat_minor": 0,
  "metadata": {
    "colab": {
      "provenance": [],
      "include_colab_link": true
    },
    "kernelspec": {
      "name": "python3",
      "display_name": "Python 3"
    },
    "language_info": {
      "name": "python"
    }
  },
  "cells": [
    {
      "cell_type": "markdown",
      "metadata": {
        "id": "view-in-github",
        "colab_type": "text"
      },
      "source": [
        "<a href=\"https://colab.research.google.com/github/NexusDVL/SistemaEspecialistaPy/blob/main/Sistema_Especialista_Motos.ipynb\" target=\"_parent\"><img src=\"https://colab.research.google.com/assets/colab-badge.svg\" alt=\"Open In Colab\"/></a>"
      ]
    },
    {
      "cell_type": "markdown",
      "source": [
        "## **Código modificado com foco em oferecer ajuda na escolha da sua proxima Moto 🏍✌**"
      ],
      "metadata": {
        "id": "Fiy458unW2mL"
      }
    },
    {
      "cell_type": "code",
      "execution_count": null,
      "metadata": {
        "id": "CjH8A5DYeI9I"
      },
      "outputs": [],
      "source": [
        "# Base de Conhecimento\n",
        "motos = [\n",
        "    {\"Marca\": \"BMW\", \"Categoria\": \"Carenada\", \"Potencia\": \"Alta\"},\n",
        "    {\"Marca\": \"Honda\", \"Categoria\": \"Naked\", \"Potencia\": \"Media\"},\n",
        "    {\"Marca\": \"Tiger\", \"Categoria\": \"BigTrail\", \"Potencia\": \"Alta\"},\n",
        "    {\"Marca\": \"Yamaha\", \"Categoria\": \"OffRoad\", \"Potencia\": \"Baixa\"},\n",
        "]\n",
        "\n",
        "# Regras de Recomendação\n",
        "regras = [\n",
        "    {\"Condição\": {\"Categoria\": \"Carenada\", \"Potencia\": \"Alta\"}, \"Recomendação\": [\"BMW\"]},\n",
        "    {\"Condição\": {\"Categoria\": \"Naked\", \"Potencia\": \"Media\"}, \"Recomendação\": [\"Honda\"]},\n",
        "    {\"Condição\": {\"Categoria\": \"BigTrail\", \"Potencia\": \"Alta\"}, \"Recomendação\": [\"Tiger\"]},\n",
        "    {\"Condição\": {\"Categoria\": \"OffRoad\", \"Potencia\": \"Baixa\"}, \"Recomendação\": [\"Yamaha\"]},\n",
        "]\n"
      ]
    },
    {
      "cell_type": "code",
      "source": [
        "def recomendar_motos(preferencias):\n",
        "    recomendacoes = []\n",
        "    for regra in regras:\n",
        "        condicao = regra[\"Condição\"]\n",
        "        if (preferencias[\"Categoria\"] == condicao[\"Categoria\"] and\n",
        "                preferencias[\"Potencia\"] == condicao[\"Potencia\"]):\n",
        "            recomendacoes.extend(regra[\"Recomendação\"])\n",
        "    return recomendacoes"
      ],
      "metadata": {
        "id": "paQFjmBAen9M"
      },
      "execution_count": null,
      "outputs": []
    },
    {
      "cell_type": "code",
      "source": [
        "def main():\n",
        "    # Coletar preferências do usuário\n",
        "    categoria = input(\"Qual categoria de moto você prefere? \")\n",
        "    potencia = input(\"Qual potência você prefere? \")\n",
        "\n",
        "    preferencias = {\n",
        "        \"Categoria\": categoria,\n",
        "        \"Potencia\": potencia\n",
        "    }\n",
        "\n",
        "    # Obter recomendações\n",
        "    motos_recomendados = recomendar_motos(preferencias)\n",
        "\n",
        "    # Mostrar recomendações\n",
        "    if motos_recomendados:\n",
        "        print(\"Motos Recomendadas:\")\n",
        "        for moto in motos_recomendados:\n",
        "            print(f\"- {moto}\")\n",
        "    else:\n",
        "        print(\"Nenhuma recomendação disponível para suas preferências.\")\n",
        "\n",
        "if __name__ == \"__main__\":\n",
        "    main()"
      ],
      "metadata": {
        "colab": {
          "base_uri": "https://localhost:8080/"
        },
        "id": "VVGk2FB3er-3",
        "outputId": "7cd05269-d109-4bef-cc91-3757c749935d"
      },
      "execution_count": null,
      "outputs": [
        {
          "output_type": "stream",
          "name": "stdout",
          "text": [
            "Qual categoria de moto você prefere? Honda\n",
            "Qual potência você prefere? Alta\n",
            "Nenhuma recomendação disponível para suas preferências.\n"
          ]
        }
      ]
    },
    {
      "cell_type": "markdown",
      "source": [
        "# **Questões**:\n",
        "\n",
        "### **Quais são as vantagens e limitações dos sistemas especialistas?**\n",
        "\n",
        "**R:** Sistemas especialistas oferecem alta precisão e rapidez na tomada de decisões em áreas específicas, sendo capazes de simular o conhecimento de especialistas humanos. No entanto, são limitados pela sua rigidez, pois não conseguem aprender com novas situações e dependem de atualizações manuais, além de serem complexos e caros de desenvolver.\n",
        "\n",
        "\n",
        "### **Como os sistemas especialistas podem evoluir com os avanços em IA?**\n",
        "\n",
        "**R:** Com os avanços em IA, os sistemas especialistas podem evoluir incorporando técnicas de aprendizado de máquina, que permitem adaptação e melhorias\n",
        "contínuas baseadas em novos dados. O processamento de linguagem natural e o acesso a informações em tempo real também ampliam sua capacidade de compreensão\n",
        "e resposta, tornando-os mais dinâmicos e versáteis.\n"
      ],
      "metadata": {
        "id": "pANsTUitV3Ze"
      }
    }
  ]
}